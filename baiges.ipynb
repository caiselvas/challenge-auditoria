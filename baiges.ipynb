{
 "cells": [
  {
   "cell_type": "code",
   "execution_count": 85,
   "metadata": {},
   "outputs": [],
   "source": [
    "import pandas as pd\n",
    "import numpy as np\n",
    "import matplotlib.pyplot as plt\n",
    "import seaborn as sns"
   ]
  },
  {
   "cell_type": "code",
   "execution_count": 86,
   "metadata": {},
   "outputs": [],
   "source": [
    "inventory_data = pd.read_excel('./data/inventory_data_new.xlsx')"
   ]
  },
  {
   "cell_type": "code",
   "execution_count": 87,
   "metadata": {},
   "outputs": [
    {
     "data": {
      "text/html": [
       "<div>\n",
       "<style scoped>\n",
       "    .dataframe tbody tr th:only-of-type {\n",
       "        vertical-align: middle;\n",
       "    }\n",
       "\n",
       "    .dataframe tbody tr th {\n",
       "        vertical-align: top;\n",
       "    }\n",
       "\n",
       "    .dataframe thead th {\n",
       "        text-align: right;\n",
       "    }\n",
       "</style>\n",
       "<table border=\"1\" class=\"dataframe\">\n",
       "  <thead>\n",
       "    <tr style=\"text-align: right;\">\n",
       "      <th></th>\n",
       "      <th>material</th>\n",
       "      <th>unitats_2022</th>\n",
       "      <th>vendes_2022</th>\n",
       "      <th>preu_venda_unitari_2022</th>\n",
       "      <th>unitats_2023</th>\n",
       "      <th>vendes_2023</th>\n",
       "      <th>preu_venda_unitari_2023</th>\n",
       "      <th>variacio_preu_venda_unitari_2022_2023</th>\n",
       "      <th>proporcio_variacio_preu_venda_unitari_2022_2023</th>\n",
       "      <th>data_darrera_entrada</th>\n",
       "      <th>dies_ultima_entrada</th>\n",
       "      <th>data_darrera_sortida</th>\n",
       "      <th>dies_ultima_sortida</th>\n",
       "      <th>diferencia_entrada_sortida</th>\n",
       "      <th>stock_final_2023</th>\n",
       "      <th>valor_total_stock_2023</th>\n",
       "      <th>cost_unitari_stock_2023</th>\n",
       "    </tr>\n",
       "  </thead>\n",
       "  <tbody>\n",
       "    <tr>\n",
       "      <th>0</th>\n",
       "      <td>100500401.0</td>\n",
       "      <td>350.0</td>\n",
       "      <td>766.77</td>\n",
       "      <td>2.190771</td>\n",
       "      <td>300.0</td>\n",
       "      <td>931.00</td>\n",
       "      <td>3.103333</td>\n",
       "      <td>0.912562</td>\n",
       "      <td>0.416548</td>\n",
       "      <td>1970-01-01 01:00:45.208</td>\n",
       "      <td>83.0</td>\n",
       "      <td>1970-01-01 01:00:45.219</td>\n",
       "      <td>72.0</td>\n",
       "      <td>11.0</td>\n",
       "      <td>NaN</td>\n",
       "      <td>NaN</td>\n",
       "      <td>NaN</td>\n",
       "    </tr>\n",
       "    <tr>\n",
       "      <th>1</th>\n",
       "      <td>100500601.0</td>\n",
       "      <td>NaN</td>\n",
       "      <td>NaN</td>\n",
       "      <td>NaN</td>\n",
       "      <td>NaN</td>\n",
       "      <td>NaN</td>\n",
       "      <td>NaN</td>\n",
       "      <td>NaN</td>\n",
       "      <td>NaN</td>\n",
       "      <td>1970-01-01 01:00:44.551</td>\n",
       "      <td>740.0</td>\n",
       "      <td>1970-01-01 01:00:44.551</td>\n",
       "      <td>740.0</td>\n",
       "      <td>0.0</td>\n",
       "      <td>NaN</td>\n",
       "      <td>NaN</td>\n",
       "      <td>NaN</td>\n",
       "    </tr>\n",
       "    <tr>\n",
       "      <th>2</th>\n",
       "      <td>114230204.0</td>\n",
       "      <td>140000.0</td>\n",
       "      <td>8072.60</td>\n",
       "      <td>0.057661</td>\n",
       "      <td>70000.0</td>\n",
       "      <td>4489.80</td>\n",
       "      <td>0.064140</td>\n",
       "      <td>0.006479</td>\n",
       "      <td>0.112355</td>\n",
       "      <td>1970-01-01 01:00:45.258</td>\n",
       "      <td>33.0</td>\n",
       "      <td>1970-01-01 01:00:45.272</td>\n",
       "      <td>19.0</td>\n",
       "      <td>14.0</td>\n",
       "      <td>NaN</td>\n",
       "      <td>NaN</td>\n",
       "      <td>NaN</td>\n",
       "    </tr>\n",
       "    <tr>\n",
       "      <th>3</th>\n",
       "      <td>114230821.0</td>\n",
       "      <td>40000.0</td>\n",
       "      <td>1945.60</td>\n",
       "      <td>0.048640</td>\n",
       "      <td>NaN</td>\n",
       "      <td>NaN</td>\n",
       "      <td>NaN</td>\n",
       "      <td>NaN</td>\n",
       "      <td>NaN</td>\n",
       "      <td>1970-01-01 01:00:44.581</td>\n",
       "      <td>710.0</td>\n",
       "      <td>1970-01-01 01:00:44.588</td>\n",
       "      <td>703.0</td>\n",
       "      <td>7.0</td>\n",
       "      <td>NaN</td>\n",
       "      <td>NaN</td>\n",
       "      <td>NaN</td>\n",
       "    </tr>\n",
       "    <tr>\n",
       "      <th>4</th>\n",
       "      <td>114230822.0</td>\n",
       "      <td>1018500.0</td>\n",
       "      <td>54892.49</td>\n",
       "      <td>0.053895</td>\n",
       "      <td>885500.0</td>\n",
       "      <td>58951.87</td>\n",
       "      <td>0.066575</td>\n",
       "      <td>0.012679</td>\n",
       "      <td>0.235256</td>\n",
       "      <td>1970-01-01 01:00:45.351</td>\n",
       "      <td>-60.0</td>\n",
       "      <td>1970-01-01 01:00:45.336</td>\n",
       "      <td>-45.0</td>\n",
       "      <td>-15.0</td>\n",
       "      <td>66500.0</td>\n",
       "      <td>2292.96</td>\n",
       "      <td>0.034481</td>\n",
       "    </tr>\n",
       "  </tbody>\n",
       "</table>\n",
       "</div>"
      ],
      "text/plain": [
       "      material  unitats_2022  vendes_2022  preu_venda_unitari_2022  \\\n",
       "0  100500401.0         350.0       766.77                 2.190771   \n",
       "1  100500601.0           NaN          NaN                      NaN   \n",
       "2  114230204.0      140000.0      8072.60                 0.057661   \n",
       "3  114230821.0       40000.0      1945.60                 0.048640   \n",
       "4  114230822.0     1018500.0     54892.49                 0.053895   \n",
       "\n",
       "   unitats_2023  vendes_2023  preu_venda_unitari_2023  \\\n",
       "0         300.0       931.00                 3.103333   \n",
       "1           NaN          NaN                      NaN   \n",
       "2       70000.0      4489.80                 0.064140   \n",
       "3           NaN          NaN                      NaN   \n",
       "4      885500.0     58951.87                 0.066575   \n",
       "\n",
       "   variacio_preu_venda_unitari_2022_2023  \\\n",
       "0                               0.912562   \n",
       "1                                    NaN   \n",
       "2                               0.006479   \n",
       "3                                    NaN   \n",
       "4                               0.012679   \n",
       "\n",
       "   proporcio_variacio_preu_venda_unitari_2022_2023    data_darrera_entrada  \\\n",
       "0                                         0.416548 1970-01-01 01:00:45.208   \n",
       "1                                              NaN 1970-01-01 01:00:44.551   \n",
       "2                                         0.112355 1970-01-01 01:00:45.258   \n",
       "3                                              NaN 1970-01-01 01:00:44.581   \n",
       "4                                         0.235256 1970-01-01 01:00:45.351   \n",
       "\n",
       "   dies_ultima_entrada    data_darrera_sortida  dies_ultima_sortida  \\\n",
       "0                 83.0 1970-01-01 01:00:45.219                 72.0   \n",
       "1                740.0 1970-01-01 01:00:44.551                740.0   \n",
       "2                 33.0 1970-01-01 01:00:45.272                 19.0   \n",
       "3                710.0 1970-01-01 01:00:44.588                703.0   \n",
       "4                -60.0 1970-01-01 01:00:45.336                -45.0   \n",
       "\n",
       "   diferencia_entrada_sortida  stock_final_2023  valor_total_stock_2023  \\\n",
       "0                        11.0               NaN                     NaN   \n",
       "1                         0.0               NaN                     NaN   \n",
       "2                        14.0               NaN                     NaN   \n",
       "3                         7.0               NaN                     NaN   \n",
       "4                       -15.0           66500.0                 2292.96   \n",
       "\n",
       "   cost_unitari_stock_2023  \n",
       "0                      NaN  \n",
       "1                      NaN  \n",
       "2                      NaN  \n",
       "3                      NaN  \n",
       "4                 0.034481  "
      ]
     },
     "execution_count": 87,
     "metadata": {},
     "output_type": "execute_result"
    }
   ],
   "source": [
    "inventory_data.head()"
   ]
  },
  {
   "cell_type": "code",
   "execution_count": 88,
   "metadata": {},
   "outputs": [],
   "source": [
    "# Passar a data les columnes que ho requereixen\n",
    "inventory_data['data_darrera_entrada'] = pd.to_datetime(inventory_data['data_darrera_entrada'], format='%Y-%m-%d')\n",
    "inventory_data['data_darrera_sortida'] = pd.to_datetime(inventory_data['data_darrera_sortida'], format='%Y-%m-%d')"
   ]
  },
  {
   "cell_type": "code",
   "execution_count": 89,
   "metadata": {},
   "outputs": [],
   "source": [
    "categorical_cols = ['material']\n",
    "date_cols = ['data_darrera_entrada', 'data_darrera_sortida']\n",
    "numerical_cols = list(set(inventory_data.columns) - set(categorical_cols) - set(date_cols))\n",
    "for col in numerical_cols:\n",
    "\tinventory_data[col] = pd.to_numeric(inventory_data[col])"
   ]
  },
  {
   "cell_type": "code",
   "execution_count": 90,
   "metadata": {},
   "outputs": [
    {
     "data": {
      "text/plain": [
       "Index(['material', 'unitats_2022', 'vendes_2022', 'preu_venda_unitari_2022',\n",
       "       'unitats_2023', 'vendes_2023', 'preu_venda_unitari_2023',\n",
       "       'variacio_preu_venda_unitari_2022_2023',\n",
       "       'proporcio_variacio_preu_venda_unitari_2022_2023',\n",
       "       'data_darrera_entrada', 'dies_ultima_entrada', 'data_darrera_sortida',\n",
       "       'dies_ultima_sortida', 'diferencia_entrada_sortida', 'stock_final_2023',\n",
       "       'valor_total_stock_2023', 'cost_unitari_stock_2023'],\n",
       "      dtype='object')"
      ]
     },
     "execution_count": 90,
     "metadata": {},
     "output_type": "execute_result"
    }
   ],
   "source": [
    "inventory_data.columns"
   ]
  },
  {
   "cell_type": "code",
   "execution_count": 91,
   "metadata": {},
   "outputs": [],
   "source": [
    "# Eliminar filas si tiene missings\n",
    "\n",
    "inventory_data = inventory_data.dropna()"
   ]
  },
  {
   "cell_type": "code",
   "execution_count": 92,
   "metadata": {},
   "outputs": [
    {
     "name": "stderr",
     "output_type": "stream",
     "text": [
      "/Library/Frameworks/Python.framework/Versions/3.10/lib/python3.10/site-packages/pandas/core/arraylike.py:396: RuntimeWarning: divide by zero encountered in log1p\n",
      "  result = getattr(ufunc, method)(*inputs, **kwargs)\n",
      "/Library/Frameworks/Python.framework/Versions/3.10/lib/python3.10/site-packages/pandas/core/arraylike.py:396: RuntimeWarning: invalid value encountered in log1p\n",
      "  result = getattr(ufunc, method)(*inputs, **kwargs)\n"
     ]
    }
   ],
   "source": [
    "def calcular_indice_deterioro(data):\n",
    "\n",
    "    # Calcular las diferencias y ratios asegurando que no haya división por cero\n",
    "    data['delta_unitats'] = (data['unitats_2023'] - data['unitats_2022']) / (data['unitats_2022'] + 1)\n",
    "    data['delta_preu_venda_unitari'] = data['variacio_preu_venda_unitari_2022_2023'] / (data['preu_venda_unitari_2022'] + 0.01)\n",
    "    data['rotacion_inventario'] = data['unitats_2023'] / (data['stock_final_2023'] + 1)\n",
    "    data['inactividad'] = data['dies_ultima_sortida'] + data['dies_ultima_entrada']\n",
    "\n",
    "    # Índice de deterioro\n",
    "    data['indice_deterioro'] = (\n",
    "        -0.3 * data['delta_unitats'] +\n",
    "        -0.2 * data['delta_preu_venda_unitari'] +\n",
    "         0.2 * np.log1p(data['inactividad']) +\n",
    "        -0.3 * data['rotacion_inventario']\n",
    "    )\n",
    "    \n",
    "    # Asegurarse de que no haya NaN en el resultado final del índice de deterioro\n",
    "    data['indice_deterioro'].fillna(0, inplace=True)\n",
    "\n",
    "    return data\n",
    "\n",
    "inventory_data = calcular_indice_deterioro(inventory_data)"
   ]
  },
  {
   "cell_type": "code",
   "execution_count": 93,
   "metadata": {},
   "outputs": [],
   "source": [
    "# Guardar el dataset con el índice de deterioro\n",
    "inventory_data.to_csv('./data/inventory_data_with_deterioration_index.csv', index=False)"
   ]
  }
 ],
 "metadata": {
  "kernelspec": {
   "display_name": "Python 3",
   "language": "python",
   "name": "python3"
  },
  "language_info": {
   "codemirror_mode": {
    "name": "ipython",
    "version": 3
   },
   "file_extension": ".py",
   "mimetype": "text/x-python",
   "name": "python",
   "nbconvert_exporter": "python",
   "pygments_lexer": "ipython3",
   "version": "3.10.6"
  }
 },
 "nbformat": 4,
 "nbformat_minor": 2
}
