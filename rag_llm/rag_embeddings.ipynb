{
 "cells": [
  {
   "cell_type": "code",
   "execution_count": 1,
   "metadata": {},
   "outputs": [],
   "source": [
    "import mediapipe as mp\n",
    "from mediapipe.tasks import python\n",
    "from mediapipe.tasks.python import text\n",
    "import pandas as pd\n",
    "import re"
   ]
  },
  {
   "cell_type": "markdown",
   "metadata": {},
   "source": [
    "# QUERIES"
   ]
  },
  {
   "cell_type": "code",
   "execution_count": 2,
   "metadata": {},
   "outputs": [],
   "source": [
    "def query_get_all_values(data, text):\n",
    "    \"\"\"\n",
    "    Return all the values for that material\n",
    "    \"\"\"\n",
    "    numeros = re.findall(r'\\d+', text)\n",
    "    trobat = False\n",
    "    for n in numeros:\n",
    "        if int(n) in data[\"material\"].unique():\n",
    "            trobat = int(n)\n",
    "            break\n",
    "    if trobat == False:\n",
    "        return \"Si us plau, escriu l'index del material que vols al text\"\n",
    "    else:\n",
    "        entrada = trobat\n",
    "\n",
    "    proportion_devaluation = data[data[\"material\"] == int(entrada)]\n",
    "    return proportion_devaluation\n",
    "\n",
    "def query_get_autoarima_index(data, text):\n",
    "    numeros = re.findall(r'\\d+', text)\n",
    "    trobat = False\n",
    "    for n in numeros:\n",
    "        if int(n) in data[\"material\"].unique():\n",
    "            trobat = int(n)\n",
    "            break\n",
    "    \"\"\"\n",
    "    Return forecast index for that material\n",
    "    \"\"\"\n",
    "    if trobat == False:\n",
    "        return \"Si us plau, escriu l'index del material que vols al text\"\n",
    "    else:\n",
    "        entrada = trobat\n",
    "\n",
    "    if int(entrada) in data[\"material\"].unique():\n",
    "        proportion_devaluation = data[data[\"material\"] == int(entrada)][\"auto_arima_index\"].values[0]\n",
    "        return f\"El càlcul usant la predicció de sèries temporals és de {proportion_devaluation}\"\n",
    "    else:\n",
    "        return \"Ho sento, ho he trobat el material. Estàs segur que és l'índex correcte?\"\n",
    "\n",
    "def query_get_autoencoder_index(data, text):\n",
    "    numeros = re.findall(r'\\d+', text)\n",
    "    trobat = False\n",
    "    for n in numeros:\n",
    "        if int(n) in data[\"material\"].unique():\n",
    "            trobat = int(n)\n",
    "            break\n",
    "    \"\"\"\n",
    "    Return forecast index for that material\n",
    "    \"\"\"\n",
    "    if trobat == False:\n",
    "         return \"Si us plau, escriu l'index del material que vols al text\"\n",
    "    else:\n",
    "        entrada = trobat\n",
    "\n",
    "    if int(entrada) in data[\"material\"].unique():\n",
    "        proportion_devaluation = data[data[\"material\"] == int(entrada)][\"auto_encoder_index\"].values[0]\n",
    "        return f\"El càlcul usant l'auto encoder (xarxa neuronal) és de {proportion_devaluation}\"\n",
    "    else:\n",
    "        return \"Ho sento, ho he trobat el material. Estàs segur que és l'índex correcte?\"\n",
    "\n",
    "def query_get_prediction(data, text):\n",
    "    numeros = re.findall(r'\\d+', text)\n",
    "    trobat = False\n",
    "    for n in numeros:\n",
    "        if int(n) in data[\"material\"].unique():\n",
    "            trobat = int(n)\n",
    "            break\n",
    "    \"\"\"\n",
    "    Return forecast index for that material\n",
    "    \"\"\"\n",
    "    if trobat == False:\n",
    "        return \"Si us plau, escriu l'index del material que vols al text\"\n",
    "    else:\n",
    "        entrada = trobat\n",
    "\n",
    "    if int(entrada) in data[\"material\"].unique():\n",
    "        proportion_devaluation = data[data[\"material\"] == int(entrada)][\"fair_price\"].values[0]\n",
    "        return f\"El valor just estimat pel model és {proportion_devaluation}\"\n",
    "    else:\n",
    "        return \"Ho sento, ho he trobat el material. Estàs segur que és l'índex correcte?\"\n",
    "\n",
    "def query_get_devaluation(data, text):\n",
    "    numeros = re.findall(r'\\d+', text)\n",
    "    trobat = False\n",
    "    for n in numeros:\n",
    "        if int(n) in data[\"material\"].unique():\n",
    "            trobat = int(n)\n",
    "            break\n",
    "    \"\"\"\n",
    "    Return forecast index for that material\n",
    "    \"\"\"\n",
    "    if trobat == False:\n",
    "        return \"Si us plau, escriu l'index del material que vols al text\"\n",
    "    else:\n",
    "        entrada = trobat\n",
    "\n",
    "    if int(entrada) in data[\"material\"].unique():\n",
    "        element = data[data[\"material\"] == int(entrada)].iloc[0]\n",
    "        if element[\"fair_price\"] == element[\"new_value\"]:\n",
    "            return f\"S'ha devaluat un {element['fair_price'] / element['cost_unitari_stock_2023']} respecte al cost\"\n",
    "        else:\n",
    "            return f\"No s'ha devaluat. El valor predit era {element['fair_price']}, mentre que el cost  {element['cost_unitari_stock_2023']}\"\n",
    "    else:\n",
    "        return \"Ho sento, ho he trobat el material. Estàs segur que és l'índex correcte?\"\n",
    "    \n",
    "def query_get_total_devaluation(data, text):\n",
    "    total_value = 0\n",
    "    count = 0\n",
    "    for index, element in data[data[\"fair_price\"] == data[\"new_value\"]].iterrows():\n",
    "        total_value += element[\"valor_total_stock_2023\"] - element[\"stock_final_2023\"] * element[\"fair_price\"]\n",
    "        count += 1\n",
    "    return(f\"Valor total devaluat: {total_value}, en un total de {count} elements\")\n",
    "\n",
    "def query_text(data, text):\n",
    "    return \"Digues quina informació de la base de dades vols. Per exemple, dona'm el percentatge de devaluació del material 100022432\"\n"
   ]
  },
  {
   "cell_type": "code",
   "execution_count": 3,
   "metadata": {},
   "outputs": [],
   "source": [
    "queries = {\n",
    "    \"Dona'm el percentatge de devaluació del material 100022432\": query_get_devaluation,\n",
    "    \"Retorna tots els valors del material 100022432\": query_get_all_values,\n",
    "    \"Retorna l'índex de sèries temporals de deteriorament per al material 100022432 amb ARIMA\": query_get_autoarima_index,\n",
    "    \"Retorna l'índex amb autoencoder de deteriorament per al material 100022432 amb autoencoder\": query_get_autoencoder_index,\n",
    "    \"Retorna la predicció per al material 100022432, valor just, estimat\": query_get_prediction,\n",
    "    \"Retorna el valor total de devaluació de la base de dades\": query_get_total_devaluation,\n",
    "    \"Hola, què saps fer, que tal, provant\": query_text\n",
    "}"
   ]
  },
  {
   "cell_type": "code",
   "execution_count": 4,
   "metadata": {},
   "outputs": [],
   "source": [
    "import pickle\n",
    "with open(\"queries.pkl\", \"wb\") as f:\n",
    "    pickle.dump(queries, f)"
   ]
  },
  {
   "cell_type": "markdown",
   "metadata": {},
   "source": [
    "# MODEL DE LLENGUATGE - carrega"
   ]
  },
  {
   "cell_type": "code",
   "execution_count": 5,
   "metadata": {},
   "outputs": [],
   "source": [
    "model_path = './universal_sentence_encoder.tflite'\n",
    "\n",
    "data = pd.read_excel(\"C:/Users/Usuario/Documents/Projectes/ChallengeAuditoria/challenge-auditoria/data/results_inventory_impairment.xlsx\")\n",
    "\n",
    "import mediapipe as mp\n",
    "\n",
    "BaseOptions = mp.tasks.BaseOptions\n",
    "TextEmbedder = mp.tasks.text.TextEmbedder\n",
    "TextEmbedderOptions = mp.tasks.text.TextEmbedderOptions\n",
    "\n",
    "# For creating a text embedder instance:\n",
    "options = TextEmbedderOptions(\n",
    "    base_options=BaseOptions(model_asset_path=model_path),\n",
    "    quantize=True)\n",
    "text_embedder = TextEmbedder.create_from_options(options)\n",
    "\n",
    "def embed_text(text):\n",
    "    return text_embedder.embed(text).embeddings[0]\n"
   ]
  },
  {
   "cell_type": "code",
   "execution_count": 6,
   "metadata": {},
   "outputs": [],
   "source": [
    "with open(\"queries.pkl\", \"rb\") as f:\n",
    "    loaded_queries = pickle.load(f)\n",
    "\n",
    "query_embeddings = [text_embedder.embed(query).embeddings[0] for query in queries.keys()]"
   ]
  },
  {
   "cell_type": "code",
   "execution_count": 7,
   "metadata": {},
   "outputs": [],
   "source": [
    "max_sim = float(\"-inf\")\n",
    "for i, query in enumerate(query_embeddings):\n",
    "    similarities =  TextEmbedder.cosine_similarity(query_embeddings[0], query)\n",
    "    if similarities > max_sim:\n",
    "        q = i\n",
    "        max_sim = similarities"
   ]
  },
  {
   "cell_type": "code",
   "execution_count": 8,
   "metadata": {},
   "outputs": [
    {
     "data": {
      "text/plain": [
       "\"Si us plau, escriu l'index del material que vols al text\""
      ]
     },
     "execution_count": 8,
     "metadata": {},
     "output_type": "execute_result"
    }
   ],
   "source": [
    "queries[list(queries.keys())[q]](data, \"hola\")"
   ]
  },
  {
   "cell_type": "markdown",
   "metadata": {},
   "source": [
    "# CHAT"
   ]
  },
  {
   "cell_type": "code",
   "execution_count": 9,
   "metadata": {},
   "outputs": [],
   "source": [
    "from ipywidgets import widgets\n",
    "from IPython.display import display, HTML, clear_output\n",
    "\n",
    "class Chat:\n",
    "    def __init__(self):\n",
    "        self.input_box = widgets.Text(placeholder=\"Type your message and press Enter\")\n",
    "        self.clear_button = widgets.Button(description=\"Clear Chat\")\n",
    "        self.output_area = widgets.Output()\n",
    "        self.setup_ui()\n",
    "\n",
    "    def setup_ui(self):\n",
    "        self.input_box.on_submit(self.send_message)\n",
    "        self.clear_button.on_click(self.clear_chat)\n",
    "        display(widgets.VBox([self.input_box, self.clear_button]))\n",
    "        display(self.output_area)\n",
    "        with self.output_area:\n",
    "            self.display_chatbot_message(\"Welcome to the chat interface! Type your message below.\")\n",
    "\n",
    "    def send_message(self, sender):\n",
    "        message = self.input_box.value.strip()\n",
    "        if message:\n",
    "            self.display_user_message(message)\n",
    "            self.input_box.value = \"\"\n",
    "\n",
    "    def display_user_message(self, message):\n",
    "        message_widget = HTML(f\"<strong>You:</strong> {message}<br>\")\n",
    "        with self.output_area:\n",
    "            display(message_widget)\n",
    "        self.display_chatbot_message(self.handle_user_message(message))\n",
    "\n",
    "    def handle_user_message(self, text):\n",
    "        embed = text_embedder.embed(text).embeddings[0]\n",
    "        max_sim = float(\"-inf\")\n",
    "        for i, query in enumerate(query_embeddings):\n",
    "            similarities =  TextEmbedder.cosine_similarity(embed, query)\n",
    "            if similarities > max_sim:\n",
    "                q = i\n",
    "                max_sim = similarities\n",
    "        return queries[list(queries.keys())[q]](data, text)\n",
    "    def display_chatbot_message(self, message):\n",
    "        message_widget = HTML(f\"<strong>ChatBot:</strong> {message}<br>\")\n",
    "        with self.output_area:\n",
    "            display(message_widget)\n",
    "\n",
    "    def clear_chat(self, sender):\n",
    "        self.output_area.clear_output()\n",
    "\n",
    "    @classmethod\n",
    "    def startChat(cls):\n",
    "        chat_instance = cls()\n",
    "        return chat_instance\n"
   ]
  },
  {
   "cell_type": "markdown",
   "metadata": {},
   "source": [
    "# Prova'l"
   ]
  },
  {
   "cell_type": "markdown",
   "metadata": {},
   "source": [
    "Abans d'executar-ho, asssegura't d'haver executat totes les cel·les anteriors. Tingues en compte que és simplement una versió petita de prova per tal de visualitzar què podria ser capaç de fer un sistema d'aquest estil, i que tampoc acaba d'estar optimitzat per entendre el català del tot bé (tot i que és el llenguatge en el que espera que li parlis). Les respostes que té són predeterminades, però podrien ser també generades per un LLM. Si peta i veus que no torna a sortir el xat, reseteja el notebook."
   ]
  },
  {
   "cell_type": "code",
   "execution_count": 10,
   "metadata": {},
   "outputs": [
    {
     "name": "stderr",
     "output_type": "stream",
     "text": [
      "C:\\Users\\Usuario\\AppData\\Local\\Temp\\ipykernel_28808\\2138663488.py:12: DeprecationWarning: on_submit is deprecated. Instead, set the .continuous_update attribute to False and observe the value changing with: mywidget.observe(callback, 'value').\n",
      "  self.input_box.on_submit(self.send_message)\n"
     ]
    },
    {
     "data": {
      "application/vnd.jupyter.widget-view+json": {
       "model_id": "c6b38527ae55436494fe7dcb15cd1218",
       "version_major": 2,
       "version_minor": 0
      },
      "text/plain": [
       "VBox(children=(Text(value='', placeholder='Type your message and press Enter'), Button(description='Clear Chat…"
      ]
     },
     "metadata": {},
     "output_type": "display_data"
    },
    {
     "data": {
      "application/vnd.jupyter.widget-view+json": {
       "model_id": "20860a28bade441faabf34848959d49f",
       "version_major": 2,
       "version_minor": 0
      },
      "text/plain": [
       "Output()"
      ]
     },
     "metadata": {},
     "output_type": "display_data"
    },
    {
     "data": {
      "text/plain": [
       "<__main__.Chat at 0x2764ce1e250>"
      ]
     },
     "execution_count": 10,
     "metadata": {},
     "output_type": "execute_result"
    },
    {
     "name": "stdout",
     "output_type": "stream",
     "text": [
      "De quin material vols obtenir el percentatge de devaluació?"
     ]
    }
   ],
   "source": [
    "# Example usage\n",
    "Chat.startChat()"
   ]
  }
 ],
 "metadata": {
  "kernelspec": {
   "display_name": ".venv",
   "language": "python",
   "name": "python3"
  },
  "language_info": {
   "codemirror_mode": {
    "name": "ipython",
    "version": 3
   },
   "file_extension": ".py",
   "mimetype": "text/x-python",
   "name": "python",
   "nbconvert_exporter": "python",
   "pygments_lexer": "ipython3",
   "version": "3.11.9"
  }
 },
 "nbformat": 4,
 "nbformat_minor": 2
}
