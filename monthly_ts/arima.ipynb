{
 "cells": [
  {
   "cell_type": "code",
   "execution_count": 8,
   "metadata": {},
   "outputs": [
    {
     "name": "stdout",
     "output_type": "stream",
     "text": [
      "Collecting pmdarima\n",
      "  Downloading pmdarima-2.0.4-cp311-cp311-win_amd64.whl.metadata (8.0 kB)\n",
      "Requirement already satisfied: joblib>=0.11 in c:\\users\\usuario\\appdata\\local\\packages\\pythonsoftwarefoundation.python.3.11_qbz5n2kfra8p0\\localcache\\local-packages\\python311\\site-packages (from pmdarima) (1.3.2)\n",
      "Collecting Cython!=0.29.18,!=0.29.31,>=0.29 (from pmdarima)\n",
      "  Downloading Cython-3.0.10-cp311-cp311-win_amd64.whl.metadata (3.2 kB)\n",
      "Requirement already satisfied: numpy>=1.21.2 in c:\\users\\usuario\\appdata\\local\\packages\\pythonsoftwarefoundation.python.3.11_qbz5n2kfra8p0\\localcache\\local-packages\\python311\\site-packages (from pmdarima) (1.26.3)\n",
      "Requirement already satisfied: pandas>=0.19 in c:\\users\\usuario\\appdata\\local\\packages\\pythonsoftwarefoundation.python.3.11_qbz5n2kfra8p0\\localcache\\local-packages\\python311\\site-packages (from pmdarima) (2.2.0)\n",
      "Requirement already satisfied: scikit-learn>=0.22 in c:\\users\\usuario\\appdata\\local\\packages\\pythonsoftwarefoundation.python.3.11_qbz5n2kfra8p0\\localcache\\local-packages\\python311\\site-packages (from pmdarima) (1.4.1.post1)\n",
      "Requirement already satisfied: scipy>=1.3.2 in c:\\users\\usuario\\appdata\\local\\packages\\pythonsoftwarefoundation.python.3.11_qbz5n2kfra8p0\\localcache\\local-packages\\python311\\site-packages (from pmdarima) (1.12.0)\n",
      "Requirement already satisfied: statsmodels>=0.13.2 in c:\\users\\usuario\\appdata\\local\\packages\\pythonsoftwarefoundation.python.3.11_qbz5n2kfra8p0\\localcache\\local-packages\\python311\\site-packages (from pmdarima) (0.14.1)\n",
      "Requirement already satisfied: urllib3 in c:\\users\\usuario\\appdata\\local\\packages\\pythonsoftwarefoundation.python.3.11_qbz5n2kfra8p0\\localcache\\local-packages\\python311\\site-packages (from pmdarima) (2.2.0)\n",
      "Requirement already satisfied: setuptools!=50.0.0,>=38.6.0 in c:\\program files\\windowsapps\\pythonsoftwarefoundation.python.3.11_3.11.2544.0_x64__qbz5n2kfra8p0\\lib\\site-packages (from pmdarima) (65.5.0)\n",
      "Requirement already satisfied: packaging>=17.1 in c:\\users\\usuario\\appdata\\local\\packages\\pythonsoftwarefoundation.python.3.11_qbz5n2kfra8p0\\localcache\\local-packages\\python311\\site-packages (from pmdarima) (23.2)\n",
      "Requirement already satisfied: python-dateutil>=2.8.2 in c:\\users\\usuario\\appdata\\local\\packages\\pythonsoftwarefoundation.python.3.11_qbz5n2kfra8p0\\localcache\\local-packages\\python311\\site-packages (from pandas>=0.19->pmdarima) (2.8.2)\n",
      "Requirement already satisfied: pytz>=2020.1 in c:\\users\\usuario\\appdata\\local\\packages\\pythonsoftwarefoundation.python.3.11_qbz5n2kfra8p0\\localcache\\local-packages\\python311\\site-packages (from pandas>=0.19->pmdarima) (2024.1)\n",
      "Requirement already satisfied: tzdata>=2022.7 in c:\\users\\usuario\\appdata\\local\\packages\\pythonsoftwarefoundation.python.3.11_qbz5n2kfra8p0\\localcache\\local-packages\\python311\\site-packages (from pandas>=0.19->pmdarima) (2024.1)\n",
      "Requirement already satisfied: threadpoolctl>=2.0.0 in c:\\users\\usuario\\appdata\\local\\packages\\pythonsoftwarefoundation.python.3.11_qbz5n2kfra8p0\\localcache\\local-packages\\python311\\site-packages (from scikit-learn>=0.22->pmdarima) (3.3.0)\n",
      "Requirement already satisfied: patsy>=0.5.4 in c:\\users\\usuario\\appdata\\local\\packages\\pythonsoftwarefoundation.python.3.11_qbz5n2kfra8p0\\localcache\\local-packages\\python311\\site-packages (from statsmodels>=0.13.2->pmdarima) (0.5.6)\n",
      "Requirement already satisfied: six in c:\\users\\usuario\\appdata\\local\\packages\\pythonsoftwarefoundation.python.3.11_qbz5n2kfra8p0\\localcache\\local-packages\\python311\\site-packages (from patsy>=0.5.4->statsmodels>=0.13.2->pmdarima) (1.16.0)\n",
      "Downloading pmdarima-2.0.4-cp311-cp311-win_amd64.whl (614 kB)\n",
      "   ---------------------------------------- 0.0/614.7 kB ? eta -:--:--\n",
      "   ---------------------------------------- 0.0/614.7 kB ? eta -:--:--\n",
      "   --- ------------------------------------ 61.4/614.7 kB 1.7 MB/s eta 0:00:01\n",
      "   --------------------------------- ------ 522.2/614.7 kB 6.6 MB/s eta 0:00:01\n",
      "   ---------------------------------------- 614.7/614.7 kB 4.8 MB/s eta 0:00:00\n",
      "Downloading Cython-3.0.10-cp311-cp311-win_amd64.whl (2.8 MB)\n",
      "   ---------------------------------------- 0.0/2.8 MB ? eta -:--:--\n",
      "   -------- ------------------------------- 0.6/2.8 MB 18.8 MB/s eta 0:00:01\n",
      "   -------------- ------------------------- 1.0/2.8 MB 10.9 MB/s eta 0:00:01\n",
      "   ------------------------------ --------- 2.1/2.8 MB 14.9 MB/s eta 0:00:01\n",
      "   ---------------------------------------  2.8/2.8 MB 16.1 MB/s eta 0:00:01\n",
      "   ---------------------------------------- 2.8/2.8 MB 13.7 MB/s eta 0:00:00\n",
      "Installing collected packages: Cython, pmdarima\n",
      "Successfully installed Cython-3.0.10 pmdarima-2.0.4\n"
     ]
    }
   ],
   "source": [
    "!pip install pmdarima"
   ]
  },
  {
   "cell_type": "code",
   "execution_count": 14,
   "metadata": {},
   "outputs": [
    {
     "name": "stderr",
     "output_type": "stream",
     "text": [
      "C:\\Users\\Usuario\\AppData\\Local\\Temp\\ipykernel_31936\\68937616.py:17: FutureWarning: Setting an item of incompatible dtype is deprecated and will raise an error in a future version of pandas. Value '0' has dtype incompatible with datetime64[ns], please explicitly cast to a compatible dtype first.\n",
      "  data.fillna(0, inplace=True)\n"
     ]
    },
    {
     "name": "stdout",
     "output_type": "stream",
     "text": [
      "[ 4876.44301115  3179.71181936  4631.577241       0.\n",
      "     0.          9650.94622414 17052.80394671  3102.5740491\n",
      "  1386.23115819  3532.45382059 10290.28874853  7437.97582724\n",
      "  2009.81091256  8559.05396715  5625.91565061  9318.92507952\n",
      "  2267.55036046  4209.05404438  5006.27960701  3997.34860344\n",
      "  7275.07348711  2393.86068317  3573.06570548  4715.9318991 ]\n",
      "[   0.          896.77063445  127.96967543 1088.00920152  346.24722509\n",
      "    0.         1827.41559308 1661.79558793  631.3555368  1047.63234576\n",
      "    0.          287.22941246  123.0753939   320.24763029   60.55080861\n",
      "  314.52627475  196.21158551    6.97122678    0.          506.0868816\n",
      "    0.          427.80397187  193.95514248  150.17060568]\n",
      "[ 6065.86477849 11451.8335002  14000.92517968  3366.85252907\n",
      "  2864.10142648     0.         18090.33250733   222.03597719\n",
      "  4766.8164248   8875.04389414 13683.96124602 17310.48861461\n",
      "  4226.83961523  2866.96865202  2534.00212845  1691.60067318\n",
      "  3624.64386705  3862.29261807  5058.30602918  4407.78637964\n",
      "  1701.06882732     0.          2679.70855028  2527.82945169]\n",
      "[ 505.95596712  476.63623626 1268.06540849  846.00666711  875.49314788\n",
      "  158.59759856  129.10931127  392.50703363  887.1306412     0.\n",
      "    0.            0.            0.            0.          246.85579638\n",
      "  145.22942219  480.49676896  445.35096111  592.36874516  640.1494182\n",
      "  352.57393011  397.67565852  466.07669552  152.99146582]\n",
      "[  859.70895689   893.41732955  3684.47924358   693.74528172\n",
      "  4149.26057761     0.          3600.4034358   7085.29246474\n",
      "  2676.16260072   421.74577606  3045.91785646     0.\n",
      "  4907.04468061  8400.5196672   5857.4093013   9945.8353493\n",
      "  1907.23417824  2488.45483399  9394.65740063  6370.98444247\n",
      "  4818.0047518  20349.6581903      0.           496.79170355]\n",
      "[2.12453322e+03 5.42219976e+03 2.62231922e+03 8.48470021e+00\n",
      " 2.84495916e+03 3.43187724e+03 3.16566360e+02 3.85645623e+03\n",
      " 5.66677748e+02 0.00000000e+00 0.00000000e+00 2.23122682e+03\n",
      " 1.92793491e+04 5.84110348e+02 1.97471161e+04 1.72195007e+03\n",
      " 7.09212331e+03 2.91211769e+04 2.63883898e+04 1.23434648e+04\n",
      " 0.00000000e+00 1.63568365e+04 1.47051209e+04 8.96988190e+03]\n",
      "[0. 0. 0. 0. 0. 0. 0. 0. 0. 0. 0. 0. 0. 0. 0. 0. 0. 0. 0. 0. 0. 0. 0. 0.]\n",
      "[1503.93385713 2499.86104019 4275.59495292 2908.56680114    0.\n",
      "  205.39884855 8039.12630688 2404.7627865  1676.75663256 1763.52002115\n",
      " 1338.81028635 1089.21451713 2427.31598711  557.51793697 2962.43470153\n",
      " 3005.07837548 2405.5998655     8.2348662  4623.58045402 1130.2009751\n",
      "  777.60626094 5111.96689255 2655.4155417   947.7081429 ]\n"
     ]
    },
    {
     "name": "stderr",
     "output_type": "stream",
     "text": [
      "C:\\Users\\Usuario\\AppData\\Local\\Packages\\PythonSoftwareFoundation.Python.3.11_qbz5n2kfra8p0\\LocalCache\\local-packages\\Python311\\site-packages\\pmdarima\\arima\\auto.py:444: UserWarning: Input time-series is completely constant; returning a (0, 0, 0) ARMA.\n",
      "  warnings.warn('Input time-series is completely constant; '\n"
     ]
    }
   ],
   "source": [
    "import pandas as pd\n",
    "import numpy as np\n",
    "from pmdarima.arima import auto_arima\n",
    "from sklearn.metrics import mean_squared_error\n",
    "import matplotlib.pyplot as plt\n",
    "\n",
    "\n",
    "data = pd.read_excel(\"C:/Users/Usuario/Documents/Projectes/ChallengeAuditoria/challenge-auditoria/data/inventory_data_month.xlsx\")\n",
    "\n",
    "# Function to fit ARIMA model and forecast\n",
    "def fit_auto_arima_and_forecast(series):\n",
    "    model = auto_arima(series, m=4)\n",
    "    forecast = model.predict(n_periods=12)\n",
    "    return forecast\n",
    "\n",
    "ts = ['Jan_2022', \"Feb_2022\", \"Mar_2022\", \"Apr_2022\", \"May_2022\", \"Jun_2022\", \"Jul_2022\", \"Aug_2022\", \"Sep_2022\", \"Oct_2022\", \"Nov_2022\", \"Dec_2022\", 'Jan_2023', \"Feb_2023\", \"Mar_2023\", \"Apr_2023\", \"May_2023\", \"Jun_2023\", \"Jul_2023\", \"Aug_2023\", \"Sep_2023\", \"Oct_2023\", \"Nov_2023\", \"Dec_2023\"]\n",
    "data.fillna(0, inplace=True)\n",
    "# Perform ARIMA forecasting for each product\n",
    "forecasts = {}\n",
    "for product in data['material']:\n",
    "    product_sales = data[data['material'] == product][ts].values.flatten()\n",
    "    forecast = fit_auto_arima_and_forecast(product_sales)\n",
    "    forecasts[product] = forecast\n",
    "\n",
    "\n",
    "# Plot the forecasts\n",
    "plt.figure(figsize=(12, 8))\n",
    "for product, forecast in forecasts.items():\n",
    "    plt.plot(np.arange(len(product_sales), len(product_sales) + len(forecast)), forecast, label=product)\n",
    "plt.title('Monthly Sales Forecast')\n",
    "plt.xlabel('Month')\n",
    "plt.ylabel('Sales')\n",
    "plt.legend()\n",
    "plt.show()\n"
   ]
  }
 ],
 "metadata": {
  "kernelspec": {
   "display_name": "Python 3",
   "language": "python",
   "name": "python3"
  },
  "language_info": {
   "codemirror_mode": {
    "name": "ipython",
    "version": 3
   },
   "file_extension": ".py",
   "mimetype": "text/x-python",
   "name": "python",
   "nbconvert_exporter": "python",
   "pygments_lexer": "ipython3",
   "version": "3.11.9"
  }
 },
 "nbformat": 4,
 "nbformat_minor": 2
}
